{
  "nbformat": 4,
  "nbformat_minor": 0,
  "metadata": {
    "colab": {
      "provenance": []
    },
    "kernelspec": {
      "name": "python3",
      "display_name": "Python 3"
    },
    "language_info": {
      "name": "python"
    }
  },
  "cells": [
    {
      "cell_type": "markdown",
      "source": [
        "# Modern HTML"
      ],
      "metadata": {
        "id": "eG4RO1iEg65d"
      }
    },
    {
      "cell_type": "markdown",
      "source": [
        "1. List out the features of HTML5.\n",
        "   - New elements, attributes, and behaviors; support for multimedia; better error handling.\n",
        "   - New tags like `<article>`, `<aside>`, `<figure>`.\n",
        "   - Enhanced forms with new input types.\n",
        "   - Built-in audio and video support with `<audio>` and `<video>`.\n",
        "   - Local storage for offline use.\n",
        "     Graphics and animations with `<canvas>` and `<svg>`.\n",
        "2. What are HTML Entities? List out 5 commonly used HTML entities.\n",
        "   - Special codes to display reserved characters.\n",
        "   - Help display symbols that have special meanings in HTML.\n",
        "   - Ensure characters are rendered correctly.\n",
        "   - Prevent HTML code from breaking.\n",
        "   - Used to display invisible characters.\n",
        "3. Define accessibility in the context of web development. Discuss why it's essential to create accessible websites and how it benefits different user group.\n",
        "\n",
        "   **Accessibility**\n",
        "     - Making web content usable for everyone.\n",
        "     - Includes people with disabilities.\n",
        "     - Ensures equal access to information.\n",
        "     - Enhances user experience.\n",
        "     - Part of web development best practices.\n",
        "   \n",
        "   **Benefits of Accessibility**\n",
        "     - Legal compliance (e.g., ADA, WCAG).\n",
        "     - Inclusivity and social responsibility.\n",
        "     - Expands audience reach.\n",
        "     - Improves SEO.\n",
        "     - Benefits all users, not just those with disabilities.\n",
        "4. List any 3 ways which help us in improving the accessibility of HTML.\n",
        "     - Use semantic HTML tags.\n",
        "     - Provide alt text for images.\n",
        "     - Ensure keyboard navigability.\n"
      ],
      "metadata": {
        "id": "5xUrgmacLcwr"
      }
    },
    {
      "cell_type": "code",
      "source": [
        "# 5. Create a web page that highlights the features of HTML5. Use appropriate semantic tags to structure the content and showcase at least three key features of HTML5 with explanations.\n",
        "<!DOCTYPE html>\n",
        "<html lang=\"en\">\n",
        "<head>\n",
        "    <meta charset=\"UTF-8\">\n",
        "    <meta name=\"viewport\" content=\"width=device-width, initial-scale=1.0\">\n",
        "    <title>Features of HTML5</title>\n",
        "</head>\n",
        "<body>\n",
        "    <header><strong>Features of HTML5</strong></header>\n",
        "    <main>\n",
        "        <ul>\n",
        "            <li>New elements, attributes, and behaviors; support for multimedia; better error handling.</li>\n",
        "            <li>New tags like &lt;article&gt;, &lt;aside&gt;, &lt;figure&gt;.</li>\n",
        "            <li>Enhanced forms with new input types.</li>\n",
        "            <li>Built-in audio and video support with &lt;audio&gt; and &lt;video&gt;.</li>\n",
        "            <li>Local storage for offline use.</li>\n",
        "            <li>Graphics and animations with &lt;canvas&gt; and &lt;svg&gt;.</li>\n",
        "        </ul>\n",
        "    </main>\n",
        "</body>\n",
        "</html>"
      ],
      "metadata": {
        "id": "Hs4SWUfUPhHS"
      },
      "execution_count": null,
      "outputs": []
    },
    {
      "cell_type": "code",
      "source": [
        "# 6. Create a simple web page which has a table. The table must have 2 columns HTML and HTML5. The table should include a minimum of three rows describing the differences between HTML and HTML5.\n",
        "<!DOCTYPE html>\n",
        "<html lang=\"en\">\n",
        "<head>\n",
        "    <meta charset=\"UTF-8\">\n",
        "    <meta name=\"viewport\" content=\"width=device-width, initial-scale=1.0\">\n",
        "    <title>Document</title>\n",
        "</head>\n",
        "<body>\n",
        "    <h2 style=\"text-align: center;\">The differences between HTML and HTML5.</h2>\n",
        "    <table style=\"margin-left: auto; margin-right: auto;\" border=\"1\" cellspacing=\"5\" cellpadding=\"10\">\n",
        "        <tr>\n",
        "            <th><strong>HTML</strong></th>\n",
        "            <th><strong>HTML 5</strong></th>\n",
        "        </tr>\n",
        "        <tr>\n",
        "            <td>It contains elaborate types of character encoding.</td>\n",
        "            <td>It contains easier types of character encoding.</td>\n",
        "        </tr>\n",
        "        <tr>\n",
        "            <td>It does not support audio and video without the use of a flash player.</td>\n",
        "            <td>It supports audio and video controls with the use of &lt;audio&gt; and &lt;video&gt; tags.</td>\n",
        "        </tr>\n",
        "        <tr>\n",
        "            <td>HTML uses browser cache memory as temporary storage.</td>\n",
        "            <td>HTML5 offers multiple storage options, such as an SQL database, application cache, and web storage.</td>\n",
        "        </tr>\n",
        "        <tr>\n",
        "            <td>Programmers are unable to use features that determine a user’s geolocation..</td>\n",
        "            <td>HTML5 has a JavaScript geolocation API, which can be used to identify any user's location when accessing the website.</td>\n",
        "        </tr>\n",
        "        <tr>\n",
        "            <td>&lt;Html&gt;, &lt;Head&gt;, and &lt;Body&gt; tags are mandatory while coding.</td>\n",
        "            <td>&lt;Html&gt;, &lt;Body&gt;, and &lt;Head&gt; tags can be omitted while coding.</td>\n",
        "        </tr>\n",
        "        <tr>\n",
        "            <td>Drag and drop features are not provided.</td>\n",
        "            <td>Drag and drop features are provided.</td>\n",
        "        </tr>\n",
        "        <tr>\n",
        "            <td>It cannot handle inaccurate syntax.</td>\n",
        "            <td>It is capable of handling inaccurate syntax.</td>\n",
        "        </tr>\n",
        "        <tr>\n",
        "            <td>In HTML, vector graphics are supported with the help of various tools, such as Adobe Flash, VML, etc.</td>\n",
        "            <td>In HTML5, vector graphics are supported by default.</td>\n",
        "        </tr>\n",
        "        <tr>\n",
        "            <td>Attributes such as async, charset, and ping are not the part of HTML.</td>\n",
        "            <td>Attributes such as async, charset, and ping are an essential part of HTML5.</td>\n",
        "        </tr>\n",
        "        <tr>\n",
        "            <td>The doctype declaration is long and complicated in HTML.</td>\n",
        "            <td>The doctype declaration is comparatively quite simple and easy to understand in HTML5.</td>\n",
        "        </tr>\n",
        "        <tr>\n",
        "            <td>Newer attributes like tabindex, id,  and repeat are unavailable in HTML.</td>\n",
        "            <td>HTML5 contains tabindex, id, and repeat attributes.</td>\n",
        "        </tr>\n",
        "    </table>\n",
        "    <br>\n",
        "    <footer>\n",
        "        Source: Google\n",
        "    </footer>\n",
        "</body>\n",
        "</html>"
      ],
      "metadata": {
        "id": "1j6E7NL5UCAA"
      },
      "execution_count": null,
      "outputs": []
    }
  ]
}